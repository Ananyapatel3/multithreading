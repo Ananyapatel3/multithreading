{
 "cells": [
  {
   "cell_type": "code",
   "execution_count": null,
   "id": "957eabb4-cfee-496b-90db-8c113009b6b4",
   "metadata": {},
   "outputs": [],
   "source": [
    "). hat is multithreading in python? hy is it used? Name the module used to handle threads in python"
   ]
  },
  {
   "cell_type": "code",
   "execution_count": null,
   "id": "40768454-0547-4240-a843-829d45025a38",
   "metadata": {},
   "outputs": [],
   "source": [
    "Multithreading is a process of executing multiple threads in parallel to achieve concurrency. In Python, multithreading is used to achieve parallelism and to make full use of computer resources. It allows running multiple threads simultaneously in a single process. \n",
    "\n",
    "The module used to handle threads in Python is \"threading.\" This module provides a low-level threading API as well as higher-level abstractions that make it easier to work with threads. The \"threading\" module provides a Thread class that allows creating and controlling threads in Python."
   ]
  },
  {
   "cell_type": "code",
   "execution_count": null,
   "id": "7522a0fc-240c-403c-9e21-042677be008c",
   "metadata": {},
   "outputs": [],
   "source": [
    ". hy threading module used? rite the use of the following functions\n",
    "( activeCount\n",
    " currentThread\n",
    " enumerate)"
   ]
  },
  {
   "cell_type": "code",
   "execution_count": null,
   "id": "6fdfc095-433d-48a2-8c27-10941b8e80ad",
   "metadata": {},
   "outputs": [],
   "source": [
    "The threading module is used to implement multithreading in Python. This module provides a simple way to create and manage multiple threads to achieve parallelism and improve the performance of a program.\n",
    "\n",
    "Here are the uses of the following functions in the threading module:\n",
    "\n",
    "1. activeCount(): This method returns the number of Thread objects that are currently active in the current Python interpreter. It is used to know the number of threads currently running in the program.\n",
    "\n",
    "2. currentThread(): This method returns a Thread object that represents the current thread of execution. It is used to get the current thread ID and other attributes.\n",
    "\n",
    "3. enumerate(): This method returns a list of all Thread objects that are currently active. It is used to get the list of all the threads present in the program and their attributes."
   ]
  },
  {
   "cell_type": "code",
   "execution_count": null,
   "id": "8f2ba991-1268-4863-b255-c318a262eaa9",
   "metadata": {},
   "outputs": [],
   "source": [
    "Q3. Explain the following functions\n",
    "( run\n",
    " start\n",
    " join\n",
    "' isAlive)"
   ]
  },
  {
   "cell_type": "code",
   "execution_count": null,
   "id": "d369fa79-e049-4f2e-9127-6c5c2c9848cb",
   "metadata": {},
   "outputs": [],
   "source": [
    "The following are the functions associated with the \"Thread\" class in Python's threading module:\n",
    "\n",
    "1. run(): This function is the entry point for the thread, just like the main function in a normal program. It defines the code that is to be executed when a thread is started. When a new thread is created by instantiating the Thread class with an object that has a run() method, it calls the run() method in that object.\n",
    "\n",
    "2. start(): This method is used to start a new thread. It allocates the resources required for the thread and starts the execution of the run() method in a separate thread. If the thread is already started, this method has no effect.\n",
    "\n",
    "3. join(): This method blocks the calling thread until the thread whose join() method is called is terminated. In other words, it waits for a thread to complete its execution before moving on to the next line of code. The join() method can be used to make sure that the main program does not exit before the threads have completed their tasks.\n",
    "\n",
    "4. isAlive(): This method returns True if the thread is currently running and has not been terminated or joined. If the thread has finished running or has been terminated or joined, this method returns False. It is used to check whether a thread is currently running or not."
   ]
  },
  {
   "cell_type": "code",
   "execution_count": null,
   "id": "93fc6019-fbe9-4237-95ef-c66355365ef7",
   "metadata": {},
   "outputs": [],
   "source": [
    "4. rite a python program to create two threads. Thread one must print the list of squares and thread\n",
    "two must print the list of cubes"
   ]
  },
  {
   "cell_type": "code",
   "execution_count": 1,
   "id": "e5383f44-9070-4630-b625-18d1f2324523",
   "metadata": {},
   "outputs": [
    {
     "ename": "SyntaxError",
     "evalue": "invalid syntax (430518976.py, line 1)",
     "output_type": "error",
     "traceback": [
      "\u001b[0;36m  Cell \u001b[0;32mIn[1], line 1\u001b[0;36m\u001b[0m\n\u001b[0;31m    Here is the Python program that creates two threads, where one thread prints the list of squares and the second thread prints the list of cubes:\u001b[0m\n\u001b[0m                ^\u001b[0m\n\u001b[0;31mSyntaxError\u001b[0m\u001b[0;31m:\u001b[0m invalid syntax\n"
     ]
    }
   ],
   "source": [
    "Here is the Python program that creates two threads, where one thread prints the list of squares and the second thread prints the list of cubes:\n",
    "```\n",
    "import threading\n",
    "\n",
    "# Function to print squares of numbers\n",
    "def print_squares(numbers):\n",
    "    for n in numbers:\n",
    "        print(n * n)\n",
    "\n",
    "# Function to print cubes of numbers\n",
    "def print_cubes(numbers):\n",
    "    for n in numbers:\n",
    "        print(n * n * n)\n",
    "\n",
    "if __name__ == \"__main__\":\n",
    "    # List of numbers\n",
    "    numbers = [1, 2, 3, 4, 5]\n",
    "\n",
    "    # Create the first thread to print squares of numbers\n",
    "    t1 = threading.Thread(target=print_squares, args=(numbers,))\n",
    "    t1.start()\n",
    "\n",
    "    # Create the second thread to print cubes of numbers\n",
    "    t2 = threading.Thread(target=print_cubes, args=(numbers,))\n",
    "    t2.start()\n",
    "\n",
    "    # Wait for both the threads to complete their tasks\n",
    "    t1.join()\n",
    "    t2.join()\n",
    "\n",
    "    # Print a message to indicate that both threads have completed their tasks\n",
    "    print(\"Both threads have completed their tasks.\")\n",
    "```\n",
    "\n",
    "Both threads have completed their tasks.\n",
    "``` \n",
    "\n",
    "In this program, we have defined two functions to print the squares and cubes of numbers, respectively. We have also created two threads using the `Thread` class and `target` argument to specify which function to execute in each thread. Finally, we have used the `join()` method to wait for both threads to complete their tasks before printing a message to indicate that both threads have completed their tasks."
   ]
  },
  {
   "cell_type": "code",
   "execution_count": null,
   "id": "2b8b3de0-c031-40b3-b124-a170a8094715",
   "metadata": {},
   "outputs": [],
   "source": [
    "5. State advantages and disadvantages of multithreading"
   ]
  },
  {
   "cell_type": "code",
   "execution_count": null,
   "id": "1132b643-a42a-4ff7-8184-7b430ddd9ac5",
   "metadata": {},
   "outputs": [],
   "source": [
    "Advantages:\n",
    "1. Improved performance: Multithreading allows multiple threads of execution to share the processing time and resources of a single CPU. By using multithreading, we can achieve improved performance and better program responsiveness as the tasks can be executed concurrently.\n",
    "\n",
    "2. Resource Sharing: Multithreading allows multiple threads to share the same resources such as memory, files, network connections, etc. This can lead to better resource utilization and improved efficiency.\n",
    "\n",
    "3. Simplified solution: Multithreading can simplify the implementation of some complex applications by dividing them into smaller, more manageable parts that can be executed independently.\n",
    "\n",
    "4. Better User Interface: Multithreading is useful in creating graphical user interfaces (GUIs) as it helps in maintaining the responsiveness of the user interface while performing time-consuming tasks in the background.\n",
    "\n",
    "Disadvantages:\n",
    "1. Synchronization: One of the major challenges associated with multithreading is synchronization. If multiple threads attempt to modify a shared resource at the same time, data inconsistency and other errors can occur. Proper synchronization techniques must be used to prevent such errors.\n",
    "\n",
    "2. Complexity: Multithreading can complicate the design and implementation of a program. It requires careful planning and programming to avoid deadlocks, race conditions, and other synchronization issues.\n",
    "\n",
    "3. Debugging: Debugging a multithreaded program can be challenging as multiple threads can interact with each other in complex, unpredictable ways. Debugging tools may not always identify such issues.\n",
    "\n",
    "4. Overhead: Multithreading can add overhead to an application, especially when creating and destroying threads frequently. This can result in slower program execution."
   ]
  },
  {
   "cell_type": "code",
   "execution_count": null,
   "id": "3a11f150-7c55-4d03-b8b8-fbf9f115c802",
   "metadata": {},
   "outputs": [],
   "source": []
  }
 ],
 "metadata": {
  "kernelspec": {
   "display_name": "Python 3 (ipykernel)",
   "language": "python",
   "name": "python3"
  },
  "language_info": {
   "codemirror_mode": {
    "name": "ipython",
    "version": 3
   },
   "file_extension": ".py",
   "mimetype": "text/x-python",
   "name": "python",
   "nbconvert_exporter": "python",
   "pygments_lexer": "ipython3",
   "version": "3.10.8"
  }
 },
 "nbformat": 4,
 "nbformat_minor": 5
}
